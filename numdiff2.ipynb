{
 "cells": [
  {
   "cell_type": "code",
   "execution_count": 1,
   "metadata": {
    "cell_id": "c834eb5bafc44667af5e6cfa907113e5",
    "deepnote_cell_type": "code",
    "deepnote_to_be_reexecuted": false,
    "execution_millis": 4379,
    "execution_start": 1711615565509,
    "source_hash": "a3398caf"
   },
   "outputs": [],
   "source": [
    "%matplotlib inline\n",
    "import numpy as np\n",
    "import matplotlib.pyplot as plt\n",
    "newparams = {'figure.figsize': (8.0, 4.0), 'axes.grid': True,\n",
    "             'lines.markersize': 8, 'lines.linewidth': 2,\n",
    "             'font.size': 14}\n",
    "plt.rcParams.update(newparams)\n",
    "from scipy.interpolate import interp1d\n",
    "from scipy.integrate import simps\n",
    "from scipy.misc import derivative"
   ]
  },
  {
   "cell_type": "code",
   "execution_count": 2,
   "metadata": {
    "cell_id": "72ef27cd2e8049dfa3d7d7a79ef1f30a",
    "deepnote_cell_type": "code",
    "deepnote_to_be_reexecuted": false,
    "execution_millis": 89,
    "execution_start": 1711615569897,
    "source_hash": "704944da"
   },
   "outputs": [],
   "source": [
    "class BVP(object): \n",
    "    def __init__(self, f, fk,alpha, b, c, Xk, g0=0, g1=0, l=0, r=1):\n",
    "        self.f = f                            # right hand side\n",
    "        self.fk = fk                          # quadrature load element\n",
    "        self.alpha = alpha                    # diffusion coefficient\n",
    "        self.b = b                            # convective term/fluid velocity\n",
    "        self.c = c                            # decay rate\n",
    "        self.Xk = Xk                          # Nodes, elements K(i) = (x(i-1), x(i))\n",
    "        self.g0 = g0                          # left boundary condition\n",
    "        self.g1 = g1                          # right boundary condition\n",
    "        self.l = l                            # left boundary position \n",
    "        self.r = r                            # right boundary position\n",
    "        self.update_attributes()\n",
    "\n",
    "    def update_attributes(self):\n",
    "        self.Mi = len(self.Xk)                     # Number of nodes\n",
    "        self.T = np.array([self.Xk[:-1], self.Xk[1:]]).T # Set of elements/triangulation\n",
    "        self.H = self.Xk[1:] - self.Xk[:-1]       # Element sizes\n",
    "        self.Mk = len(self.Xk) - 1                # Number of elements\n",
    "\n",
    "    def set_Xk(self, Xk):\n",
    "        self.Xk = Xk\n",
    "        self.update_attributes()"
   ]
  },
  {
   "cell_type": "markdown",
   "metadata": {
    "cell_id": "14ca2e9ccf7745a4af6203e695c37540",
    "deepnote_cell_type": "markdown"
   },
   "source": [
    "- Elemental stiffness matrix and elemental load vector"
   ]
  },
  {
   "cell_type": "code",
   "execution_count": 3,
   "metadata": {
    "cell_id": "559ec0d7635746479871617418f3011b",
    "deepnote_cell_type": "code",
    "deepnote_to_be_reexecuted": false,
    "execution_millis": 94,
    "execution_start": 1711615569906,
    "source_hash": "34d6f61"
   },
   "outputs": [],
   "source": [
    "def stiffness_element(k, bvp):\n",
    "    '''\n",
    "    Input:\n",
    "        k  : Index\n",
    "        bvp: Boundary value problem [object]\n",
    "    Output:\n",
    "        One element in the stiffness matrix\n",
    "    '''\n",
    "    \n",
    "    Ak = np.array([[bvp.alpha*(1/bvp.H[k]) + bvp.c/3 * bvp.H[k], -bvp.alpha/bvp.H[k] + bvp.b/2 + bvp.c/6 * bvp.H[k]], \n",
    "                   [-bvp.alpha/bvp.H[k] - bvp.b/2 + bvp.c/6 * bvp.H[k], bvp.alpha*(1/bvp.H[k]) + bvp.c/3 * bvp.H[k]]],\n",
    "                  dtype=float)\n",
    "    return Ak\n",
    "\n",
    "def stiffness_matrix(bvp):\n",
    "    '''\n",
    "    Assembles the stiffness matrix A and computes the load vector F\n",
    "    Input:\n",
    "        bvp  : Boundary value problem [object]\n",
    "    '''\n",
    "    A = np.zeros((bvp.Mi, bvp.Mi), dtype=float)\n",
    "    F = np.zeros(bvp.Mi)\n",
    "\n",
    "    for k in range(bvp.Mk):\n",
    "        A[k:k+2, k:k+2] += stiffness_element(k, bvp)\n",
    "        F[k:k+2]        += bvp.fk(k,bvp)\n",
    "    \n",
    "    \n",
    "    return A, F"
   ]
  },
  {
   "cell_type": "code",
   "execution_count": 4,
   "metadata": {
    "cell_id": "c7807eddd7a34ca6bc9e867611f49d99",
    "deepnote_cell_type": "code",
    "deepnote_to_be_reexecuted": false,
    "execution_millis": 86,
    "execution_start": 1711615569914,
    "source_hash": "6004606c"
   },
   "outputs": [],
   "source": [
    "def FEMsolver(bvp):\n",
    "    '''\n",
    "    \n",
    "    '''\n",
    "    A, F = stiffness_matrix(bvp)\n",
    "    A[0,:] = 0;\n",
    "    A[0,0] = 1\n",
    "    F[0] = 0\n",
    "    A[-1,:] = 0\n",
    "    A[-1,-1] = 1\n",
    "    F[-1] = 0\n",
    "    \n",
    "    U = np.linalg.solve(A, F)\n",
    "    return U    "
   ]
  },
  {
   "cell_type": "markdown",
   "metadata": {
    "cell_id": "a8a4c08b7239423f8f1b511992a3cb5d",
    "deepnote_cell_type": "markdown"
   },
   "source": [
    "- Define $f$ and $u$ for the test case $u = x(1-x)$."
   ]
  },
  {
   "cell_type": "code",
   "execution_count": 5,
   "metadata": {
    "cell_id": "d2b602a727524f69a355a81c82083b13",
    "deepnote_cell_type": "code",
    "deepnote_to_be_reexecuted": false,
    "execution_millis": 79,
    "execution_start": 1711615569922,
    "source_hash": "bdc1009a"
   },
   "outputs": [],
   "source": [
    "def fk_ex1(k, bvp):\n",
    "    '''\n",
    "    Quadrature to find RHS. Element within the class BVP\n",
    "    '''\n",
    "    X = np.linspace(bvp.T[k,0],bvp.T[k,1],100)\n",
    "    down = (bvp.T[k,1]-X)/bvp.H[k]\n",
    "    up = (X-bvp.T[k,0])/bvp.H[k]\n",
    "\n",
    "    func1 = simps(down*bvp.f(X,bvp),X)\n",
    "    func2 = simps(up*bvp.f(X,bvp),X)\n",
    "    \n",
    "    return np.array([func1,func2])\n"
   ]
  },
  {
   "cell_type": "code",
   "execution_count": 6,
   "metadata": {
    "cell_id": "b64728d9c78e4ab286c7f8b87f5ed975",
    "deepnote_cell_type": "code",
    "deepnote_to_be_reexecuted": false,
    "execution_millis": 43,
    "execution_start": 1711615569958,
    "source_hash": "9b2ca54c"
   },
   "outputs": [],
   "source": [
    "def u_ex1(x):\n",
    "    return x*(1-x)\n",
    "def f_ex1(x,bvp):\n",
    "    return 2*bvp.alpha + bvp.b*(1-2*x) + bvp.c*x*(1-x)"
   ]
  },
  {
   "cell_type": "code",
   "execution_count": 7,
   "metadata": {
    "cell_id": "35c88efbbd4344e2962052c046b821ca",
    "deepnote_cell_type": "code",
    "deepnote_to_be_reexecuted": false,
    "execution_millis": 792,
    "execution_start": 1711615570009,
    "source_hash": "f9095d2c"
   },
   "outputs": [
    {
     "data": {
      "image/png": "[encoded data removed]",
      "text/plain": [
       "<Figure size 576x288 with 1 Axes>"
      ]
     },
     "metadata": {
      "needs_background": "light"
     },
     "output_type": "display_data"
    },
    {
     "data": {
      "image/png": "[encoded data removed]",
      "text/plain": [
       "<Figure size 576x288 with 1 Axes>"
      ]
     },
     "metadata": {
      "needs_background": "light"
     },
     "output_type": "display_data"
    }
   ],
   "source": [
    "Xk = np.array([0, 0.01,0.02, 0.05, 0.1, 0.3, 0.5, 0.6, 0.8, 0.9,0.95, 0.99, 1])\n",
    "alpha=10; b=10; c=1;\n",
    "p1= BVP(f_ex1,fk_ex1, alpha, b, c, Xk)\n",
    "U = FEMsolver(p1)\n",
    "\n",
    "plt.plot(Xk,U,Xk,u_ex1(Xk),'o')\n",
    "plt.legend(['Numerical','Exact'])\n",
    "plt.xlabel('x')\n",
    "plt.show()\n",
    "\n",
    "plt.plot(Xk,u_ex1(Xk)-U)\n",
    "plt.show()"
   ]
  },
  {
   "cell_type": "code",
   "execution_count": 8,
   "metadata": {
    "cell_id": "35ad5a9fb9fc45d6b5cc2c2c7bdcf114",
    "deepnote_cell_type": "code",
    "deepnote_to_be_reexecuted": false,
    "execution_millis": 481,
    "execution_start": 1711615570846,
    "source_hash": "501a853f"
   },
   "outputs": [],
   "source": [
    "def convergence(bvp, u_exact,solver=FEMsolver,startPoint=0): \n",
    "    P = 7\n",
    "    Hconv = np.zeros(P)\n",
    "    Econv = np.zeros(P)\n",
    "    H1conv = np.zeros(P)\n",
    "    M = 10\n",
    "    alpha = 1; b = 1; c = 1\n",
    "    X_samps = np.linspace(startPoint,1,100000)\n",
    "    for p in range(P):                # Looping over refinement no's: p = 1 , ... P\n",
    "        Xk_new = np.linspace(startPoint, 1, M)\n",
    "        bvp.set_Xk(Xk_new)\n",
    "        U_num = solver(bvp)\n",
    "\n",
    "        interpolation = interp1d(bvp.Xk,U_num,kind='linear')\n",
    "\n",
    "        error_L2 = (interpolation(X_samps)-u_exact(X_samps))**2\n",
    "        \n",
    "        grad_exact = np.gradient(u_exact(X_samps),X_samps)\n",
    "        \n",
    "        grad_num = np.gradient(interpolation(X_samps),X_samps)\n",
    "        grad_error = (grad_num-grad_exact)**2\n",
    "\n",
    "        integral = (simps(error_L2,X_samps))**0.5\n",
    "        integral_grad = (simps(grad_error,X_samps))**0.5\n",
    "\n",
    "        H1conv[p] = (integral**2 + integral_grad**2)**0.5\n",
    "        Econv[p] = integral\n",
    "        Hconv[p] = bvp.H[0]              # Step size\n",
    "        M = 2*M                          # Doubling no of nodes for refinement no p+1\n",
    "\n",
    "    order = np.polyfit(np.log10(Hconv),np.log10(Econv),1)[0]       # Linear regression on error values over all refinements\n",
    "    return Hconv, Econv, order, H1conv"
   ]
  },
  {
   "cell_type": "code",
   "execution_count": 9,
   "metadata": {
    "cell_id": "8cbcf1e0ae25426399ca71af17938e0d",
    "deepnote_cell_type": "code",
    "deepnote_to_be_reexecuted": false,
    "execution_millis": 1437,
    "execution_start": 1711615570847,
    "source_hash": "ab79d24d"
   },
   "outputs": [
    {
     "data": {
      "text/html": [
       "<div>\n",
       "<style scoped>\n",
       "    .dataframe tbody tr th:only-of-type {\n",
       "        vertical-align: middle;\n",
       "    }\n",
       "\n",
       "    .dataframe tbody tr th {\n",
       "        vertical-align: top;\n",
       "    }\n",
       "\n",
       "    .dataframe thead th {\n",
       "        text-align: right;\n",
       "    }\n",
       "</style>\n",
       "<table border=\"1\" class=\"dataframe\">\n",
       "  <thead>\n",
       "    <tr style=\"text-align: right;\">\n",
       "      <th></th>\n",
       "      <th>h</th>\n",
       "      <th>L2 Error</th>\n",
       "      <th>L2 Rate</th>\n",
       "      <th>H1 Rate</th>\n",
       "    </tr>\n",
       "  </thead>\n",
       "  <tbody>\n",
       "    <tr>\n",
       "      <th>0</th>\n",
       "      <td>0.11111111</td>\n",
       "      <td>0.00223895</td>\n",
       "      <td>0.00000000</td>\n",
       "      <td>0.00000000</td>\n",
       "    </tr>\n",
       "    <tr>\n",
       "      <th>1</th>\n",
       "      <td>0.05263158</td>\n",
       "      <td>0.00050234</td>\n",
       "      <td>2.00008120</td>\n",
       "      <td>1.00095986</td>\n",
       "    </tr>\n",
       "    <tr>\n",
       "      <th>2</th>\n",
       "      <td>0.02564103</td>\n",
       "      <td>0.00011923</td>\n",
       "      <td>2.00001860</td>\n",
       "      <td>1.00070036</td>\n",
       "    </tr>\n",
       "    <tr>\n",
       "      <th>3</th>\n",
       "      <td>0.01265823</td>\n",
       "      <td>0.00002906</td>\n",
       "      <td>2.00000446</td>\n",
       "      <td>1.00117101</td>\n",
       "    </tr>\n",
       "    <tr>\n",
       "      <th>4</th>\n",
       "      <td>0.00628931</td>\n",
       "      <td>0.00000717</td>\n",
       "      <td>2.00000110</td>\n",
       "      <td>1.00230116</td>\n",
       "    </tr>\n",
       "    <tr>\n",
       "      <th>5</th>\n",
       "      <td>0.00313480</td>\n",
       "      <td>0.00000178</td>\n",
       "      <td>1.99999977</td>\n",
       "      <td>1.00462037</td>\n",
       "    </tr>\n",
       "    <tr>\n",
       "      <th>6</th>\n",
       "      <td>0.00156495</td>\n",
       "      <td>0.00000044</td>\n",
       "      <td>2.00000090</td>\n",
       "      <td>1.00930118</td>\n",
       "    </tr>\n",
       "  </tbody>\n",
       "</table>\n",
       "</div>"
      ],
      "text/plain": [
       "           h   L2 Error    L2 Rate    H1 Rate\n",
       "0 0.11111111 0.00223895 0.00000000 0.00000000\n",
       "1 0.05263158 0.00050234 2.00008120 1.00095986\n",
       "2 0.02564103 0.00011923 2.00001860 1.00070036\n",
       "3 0.01265823 0.00002906 2.00000446 1.00117101\n",
       "4 0.00628931 0.00000717 2.00000110 1.00230116\n",
       "5 0.00313480 0.00000178 1.99999977 1.00462037\n",
       "6 0.00156495 0.00000044 2.00000090 1.00930118"
      ]
     },
     "execution_count": 9,
     "metadata": {},
     "output_type": "execute_result"
    }
   ],
   "source": [
    "H, E, p,H1 = convergence(p1, u_ex1)\n",
    "\n",
    "import pandas as pd #To format the output of the notebook.  \n",
    "RateL2=np.zeros(np.size(E))\n",
    "RateH1=np.zeros(np.size(E))\n",
    "\n",
    "RateL2[1:]=np.log10(E[1:]/E[:-1])/np.log10(H[1:]/H[:-1])\n",
    "RateH1[1:]=np.log10(H1[1:]/H1[:-1])/np.log10(H[1:]/H[:-1])\n",
    "\n",
    "\n",
    "pd.options.display.float_format = '{:.8f}'.format\n",
    "#pd.set_option('display.float_format', '{:.2E}'.format)\n",
    "df = pd.DataFrame(data={'h': H, 'L2 Error': E ,'L2 Rate':RateL2,'H1 Rate':RateH1}) \n",
    "df"
   ]
  },
  {
   "cell_type": "code",
   "execution_count": 10,
   "metadata": {
    "cell_id": "179a2ccd742a4aee845a09b3d4fba467",
    "deepnote_cell_type": "code",
    "deepnote_to_be_reexecuted": false,
    "execution_millis": 748,
    "execution_start": 1711615572303,
    "source_hash": "61a297b7"
   },
   "outputs": [
    {
     "data": {
      "image/png": "[encoded data removed]",
      "text/plain": [
       "<Figure size 576x288 with 1 Axes>"
      ]
     },
     "metadata": {
      "needs_background": "light"
     },
     "output_type": "display_data"
    }
   ],
   "source": [
    "plt.loglog(H,E,'o-', label='p={:.2f}'.format(p))\n",
    "plt.grid('on')\n",
    "plt.xlabel('h')\n",
    "plt.ylabel('error')\n",
    "plt.legend();"
   ]
  },
  {
   "cell_type": "code",
   "execution_count": 11,
   "metadata": {
    "cell_id": "bbbb4db034a14257aaacb38781a99c6e",
    "deepnote_cell_type": "code",
    "deepnote_to_be_reexecuted": false,
    "execution_millis": 299,
    "execution_start": 1711615573055,
    "source_hash": "9f583692"
   },
   "outputs": [],
   "source": [
    "def fk_ex3(k,bvp):\n",
    "    X = np.linspace(bvp.T[k,0],bvp.T[k,1],100)\n",
    "    \n",
    "    F_down,F_up = bvp.f(X,bvp,k)\n",
    "    func1 = simps(F_down,X)\n",
    "    func2 = simps(F_up,X)\n",
    "    \n",
    "    return np.array([func1,func2])"
   ]
  },
  {
   "cell_type": "code",
   "execution_count": 12,
   "metadata": {
    "cell_id": "4ff8021bf64741a99825234172678d42",
    "deepnote_cell_type": "code",
    "deepnote_to_be_reexecuted": false,
    "execution_millis": 291,
    "execution_start": 1711615573063,
    "source_hash": "d6ca55f9"
   },
   "outputs": [],
   "source": [
    "def u_ex3(x): #w3\n",
    "    return x-x**(3/4)\n",
    "\n",
    "def f_ex3(x,bvp,k):\n",
    "\n",
    "    down = (bvp.T[k,1]-x)/bvp.H[k]\n",
    "    up = (x-bvp.T[k,0])/bvp.H[k]\n",
    "\n",
    "    F_down = (1-3/4*x**(-1/4))*(-bvp.alpha/bvp.H[k]+bvp.b*down) + bvp.c*(x-x**(3/4))*down\n",
    "    F_up = (1-3/4*x**(-1/4))*(bvp.alpha/bvp.H[k]+bvp.b*up) + bvp.c*(x-x**(3/4))*up\n",
    "\n",
    "    return np.array([F_down,F_up])"
   ]
  },
  {
   "cell_type": "code",
   "execution_count": 13,
   "metadata": {
    "cell_id": "cf3443ba3ef949ebac74b545b17c9407",
    "deepnote_cell_type": "code",
    "deepnote_to_be_reexecuted": false,
    "execution_millis": 1202,
    "execution_start": 1711615573066,
    "source_hash": "cd3d38ac"
   },
   "outputs": [
    {
     "data": {
      "image/png": "[encoded data removed]",
      "text/plain": [
       "<Figure size 576x288 with 1 Axes>"
      ]
     },
     "metadata": {
      "needs_background": "light"
     },
     "output_type": "display_data"
    },
    {
     "data": {
      "image/png": "[encoded data removed]",
      "text/plain": [
       "<Figure size 576x288 with 1 Axes>"
      ]
     },
     "metadata": {
      "needs_background": "light"
     },
     "output_type": "display_data"
    }
   ],
   "source": [
    "Xk = np.linspace(0.00001,1,1000)\n",
    "alpha=10; b=10; c=1;\n",
    "p3 = BVP(f_ex3,fk_ex3, alpha, b, c, Xk)\n",
    "U = FEMsolver(p3)\n",
    "\n",
    "plt.plot(Xk, u_ex3(Xk), 'o', markersize=4)\n",
    "# plt.plot(Xk,U,Xk,u_ex3(Xk),'o', markersize=5)\n",
    "plt.plot(Xk, U)\n",
    "plt.legend(['Exact', 'Numerical'])\n",
    "plt.xlabel('x')\n",
    "plt.show()\n",
    "\n",
    "plt.plot(Xk,u_ex3(Xk)-U)\n",
    "plt.show()\n"
   ]
  },
  {
   "cell_type": "code",
   "execution_count": 37,
   "metadata": {
    "cell_id": "036489104306467a8d6c9d2cf2b3a982",
    "deepnote_cell_type": "code",
    "deepnote_to_be_reexecuted": false,
    "execution_millis": 261,
    "execution_start": 1711615574317,
    "source_hash": "cdd300d9"
   },
   "outputs": [],
   "source": [
    "def convergence(bvp, u_exact,solver=FEMsolver,startPoint=0): \n",
    "    P = 7\n",
    "    Hconv = np.zeros(P)\n",
    "    Econv = np.zeros(P)\n",
    "    H1conv = np.zeros(P)\n",
    "    M = 10\n",
    "    alpha = 1; b = 1; c = 1\n",
    "    X_samps = np.linspace(startPoint,1,100000)\n",
    "    for p in range(P):                # Looping over refinement no's: p = 1 , ... P\n",
    "        Xk_new = np.linspace(startPoint, 1, M)\n",
    "        bvp.set_Xk(Xk_new)\n",
    "        U_num = solver(bvp)\n",
    "\n",
    "        interpolation = interp1d(bvp.Xk,U_num,kind='linear')\n",
    "\n",
    "        error_L2 = (interpolation(X_samps)-u_exact(X_samps))**2\n",
    "        \n",
    "        grad_exact = np.gradient(u_exact(X_samps),X_samps)\n",
    "        \n",
    "        grad_num = np.gradient(interpolation(X_samps),X_samps)\n",
    "        grad_error = (grad_num-grad_exact)**2\n",
    "\n",
    "        integral = (simps(error_L2,X_samps))**0.5\n",
    "        integral_grad = (simps(grad_error,X_samps))**0.5\n",
    "\n",
    "        H1conv[p] = (integral**2 + integral_grad**2)**0.5\n",
    "        Econv[p] = integral\n",
    "        Hconv[p] = bvp.H[0]              # Step size\n",
    "        M = 2*M                          # Doubling no of nodes for refinement no p+1\n",
    "\n",
    "    order = np.polyfit(np.log10(Hconv),np.log10(Econv),1)[0]       # Linear regression on error values over all refinements\n",
    "    return Hconv, Econv, order, H1conv"
   ]
  },
  {
   "cell_type": "code",
   "execution_count": 38,
   "metadata": {
    "cell_id": "0bbdba163e524b64a733688005792d03",
    "deepnote_cell_type": "code",
    "deepnote_table_loading": false,
    "deepnote_table_state": {
     "filters": [],
     "pageIndex": 0,
     "pageSize": 100,
     "sortBy": []
    },
    "deepnote_to_be_reexecuted": false,
    "execution_millis": 1344,
    "execution_start": 1711615574318,
    "source_hash": "545ff085"
   },
   "outputs": [
    {
     "data": {
      "text/html": [
       "<div>\n",
       "<style scoped>\n",
       "    .dataframe tbody tr th:only-of-type {\n",
       "        vertical-align: middle;\n",
       "    }\n",
       "\n",
       "    .dataframe tbody tr th {\n",
       "        vertical-align: top;\n",
       "    }\n",
       "\n",
       "    .dataframe thead th {\n",
       "        text-align: right;\n",
       "    }\n",
       "</style>\n",
       "<table border=\"1\" class=\"dataframe\">\n",
       "  <thead>\n",
       "    <tr style=\"text-align: right;\">\n",
       "      <th></th>\n",
       "      <th>h</th>\n",
       "      <th>L2 Error</th>\n",
       "      <th>L2 Rate</th>\n",
       "      <th>H1 Rate</th>\n",
       "    </tr>\n",
       "  </thead>\n",
       "  <tbody>\n",
       "    <tr>\n",
       "      <th>0</th>\n",
       "      <td>0.11111111</td>\n",
       "      <td>0.05722957</td>\n",
       "      <td>0.00000000</td>\n",
       "      <td>0.00000000</td>\n",
       "    </tr>\n",
       "    <tr>\n",
       "      <th>1</th>\n",
       "      <td>0.05263158</td>\n",
       "      <td>0.02966214</td>\n",
       "      <td>0.87953242</td>\n",
       "      <td>0.39199488</td>\n",
       "    </tr>\n",
       "    <tr>\n",
       "      <th>2</th>\n",
       "      <td>0.02564103</td>\n",
       "      <td>0.01500902</td>\n",
       "      <td>0.94729350</td>\n",
       "      <td>0.39096532</td>\n",
       "    </tr>\n",
       "    <tr>\n",
       "      <th>3</th>\n",
       "      <td>0.01265823</td>\n",
       "      <td>0.00751412</td>\n",
       "      <td>0.98014087</td>\n",
       "      <td>0.37858843</td>\n",
       "    </tr>\n",
       "    <tr>\n",
       "      <th>4</th>\n",
       "      <td>0.00628931</td>\n",
       "      <td>0.00373862</td>\n",
       "      <td>0.99801277</td>\n",
       "      <td>0.36298732</td>\n",
       "    </tr>\n",
       "    <tr>\n",
       "      <th>5</th>\n",
       "      <td>0.00313480</td>\n",
       "      <td>0.00185178</td>\n",
       "      <td>1.00902024</td>\n",
       "      <td>0.34912001</td>\n",
       "    </tr>\n",
       "    <tr>\n",
       "      <th>6</th>\n",
       "      <td>0.00156495</td>\n",
       "      <td>0.00091361</td>\n",
       "      <td>1.01696393</td>\n",
       "      <td>0.33907557</td>\n",
       "    </tr>\n",
       "  </tbody>\n",
       "</table>\n",
       "</div>"
      ],
      "text/plain": [
       "           h   L2 Error    L2 Rate    H1 Rate\n",
       "0 0.11111111 0.05722957 0.00000000 0.00000000\n",
       "1 0.05263158 0.02966214 0.87953242 0.39199488\n",
       "2 0.02564103 0.01500902 0.94729350 0.39096532\n",
       "3 0.01265823 0.00751412 0.98014087 0.37858843\n",
       "4 0.00628931 0.00373862 0.99801277 0.36298732\n",
       "5 0.00313480 0.00185178 1.00902024 0.34912001\n",
       "6 0.00156495 0.00091361 1.01696393 0.33907557"
      ]
     },
     "execution_count": 38,
     "metadata": {},
     "output_type": "execute_result"
    }
   ],
   "source": [
    "H, E, p,H1 = convergence(p3, u_ex3,startPoint=1e-10)\n",
    "\n",
    "RateL2=np.zeros(np.size(E))\n",
    "RateH1=np.zeros(np.size(E))\n",
    "\n",
    "RateL2[1:]=np.log10(E[1:]/E[:-1])/np.log10(H[1:]/H[:-1])\n",
    "RateH1[1:]=np.log10(H1[1:]/H1[:-1])/np.log10(H[1:]/H[:-1])\n",
    "\n",
    "\n",
    "pd.options.display.float_format = '{:.8f}'.format\n",
    "#pd.set_option('display.float_format', '{:.2E}'.format)\n",
    "df = pd.DataFrame(data={'h': H, 'L2 Error': E ,'L2 Rate':RateL2,'H1 Rate':RateH1}) \n",
    "df"
   ]
  },
  {
   "cell_type": "code",
   "execution_count": 16,
   "metadata": {
    "cell_id": "4e0e34d9a3c147a6adf5fdbeee97ae01",
    "deepnote_cell_type": "code",
    "deepnote_to_be_reexecuted": false,
    "execution_millis": 267,
    "execution_start": 1711615575683,
    "source_hash": "7299ee11"
   },
   "outputs": [],
   "source": [
    "def u_ex2(x): #w2\n",
    "    return np.where(x <= 2**0.5/2,2*x/2**0.5,(1-x)/(1-2**0.5/2))\n",
    "\n",
    "def f_ex2(x,bvp,k):\n",
    "    index=0\n",
    "    if k < bvp.Mk-1:\n",
    "        if bvp.T[k+1,0] < 2**0.5/2 and bvp.T[k+1,1] > 2**0.5/2:\n",
    "            Xk_new = np.copy(bvp.Xk)\n",
    "            index = np.argmin(np.abs(Xk_new-np.sqrt(2)/2))\n",
    "            Xk_new[index] = np.sqrt(2)/2 +1e-14\n",
    "            bvp.set_Xk(Xk_new)\n",
    "     \n",
    "\n",
    "    down = (bvp.T[k,1]-x)/bvp.H[k]\n",
    "    up = (x-bvp.T[k,0])/bvp.H[k]\n",
    "    if bvp.T[k,1] <= (2**0.5/2 + 1e-16):\n",
    "        F_down = (2/2**0.5)*(-bvp.alpha/bvp.H[k]+bvp.b*down) + bvp.c*(2*x/2**0.5)*down\n",
    "        F_up   = (2/2**0.5)*( bvp.alpha/bvp.H[k]+bvp.b*up)   + bvp.c*(2*x/2**0.5)*up\n",
    "        return np.array([F_down,F_up])\n",
    "    else:\n",
    "        F_down = (-1/(1-2**0.5/2))*(-bvp.alpha/bvp.H[k]+bvp.b*down) + bvp.c*((1-x)/(1-2**0.5/2))*down\n",
    "        F_up   = (-1/(1-2**0.5/2))*( bvp.alpha/bvp.H[k]+bvp.b*up) +   bvp.c*((1-x)/(1-2**0.5/2))*up\n",
    "\n",
    "        return np.array([F_down,F_up])"
   ]
  },
  {
   "cell_type": "code",
   "execution_count": 17,
   "metadata": {
    "cell_id": "a3145b488a6c4791b483398f2b33aca5",
    "deepnote_cell_type": "code",
    "deepnote_to_be_reexecuted": false,
    "execution_millis": 631,
    "execution_start": 1711615575698,
    "source_hash": "7c924b1c"
   },
   "outputs": [
    {
     "data": {
      "image/png": "[encoded data removed]",
      "text/plain": [
       "<Figure size 576x288 with 1 Axes>"
      ]
     },
     "metadata": {
      "needs_background": "light"
     },
     "output_type": "display_data"
    },
    {
     "data": {
      "image/png": "[encoded data removed]",
      "text/plain": [
       "<Figure size 576x288 with 1 Axes>"
      ]
     },
     "metadata": {
      "needs_background": "light"
     },
     "output_type": "display_data"
    }
   ],
   "source": [
    "Xk = np.linspace(0,1,80)\n",
    "alpha=1; b=1; c=1;\n",
    "p2 = BVP(f_ex2,fk_ex3, alpha, b, c, Xk)\n",
    "U = FEMsolver(p2)\n",
    "\n",
    "plt.plot(p2.Xk, u_ex2(p2.Xk), 'o', markersize=4)\n",
    "plt.plot(p2.Xk, U)\n",
    "plt.legend(['Exact', 'Numerical'])\n",
    "plt.xlabel('x')\n",
    "plt.show()\n",
    "\n",
    "plt.plot(p2.Xk,u_ex2(p2.Xk)-U)\n",
    "plt.show()"
   ]
  },
  {
   "cell_type": "code",
   "execution_count": 18,
   "metadata": {
    "cell_id": "fb1b78c5b5644021a6c5266104a3f448",
    "deepnote_cell_type": "code",
    "deepnote_to_be_reexecuted": false,
    "execution_millis": 1219,
    "execution_start": 1711615576346,
    "source_hash": "e69fb685"
   },
   "outputs": [
    {
     "data": {
      "text/html": [
       "<div>\n",
       "<style scoped>\n",
       "    .dataframe tbody tr th:only-of-type {\n",
       "        vertical-align: middle;\n",
       "    }\n",
       "\n",
       "    .dataframe tbody tr th {\n",
       "        vertical-align: top;\n",
       "    }\n",
       "\n",
       "    .dataframe thead th {\n",
       "        text-align: right;\n",
       "    }\n",
       "</style>\n",
       "<table border=\"1\" class=\"dataframe\">\n",
       "  <thead>\n",
       "    <tr style=\"text-align: right;\">\n",
       "      <th></th>\n",
       "      <th>h</th>\n",
       "      <th>L2 Error</th>\n",
       "      <th>L2 Rate</th>\n",
       "      <th>H1 Rate</th>\n",
       "    </tr>\n",
       "  </thead>\n",
       "  <tbody>\n",
       "    <tr>\n",
       "      <th>0</th>\n",
       "      <td>0.11111111</td>\n",
       "      <td>0.11762084</td>\n",
       "      <td>0.00000000</td>\n",
       "      <td>0.00000000</td>\n",
       "    </tr>\n",
       "    <tr>\n",
       "      <th>1</th>\n",
       "      <td>0.05263158</td>\n",
       "      <td>0.05948449</td>\n",
       "      <td>0.91238952</td>\n",
       "      <td>0.50489980</td>\n",
       "    </tr>\n",
       "    <tr>\n",
       "      <th>2</th>\n",
       "      <td>0.02564103</td>\n",
       "      <td>0.01988342</td>\n",
       "      <td>1.52384196</td>\n",
       "      <td>0.51425328</td>\n",
       "    </tr>\n",
       "    <tr>\n",
       "      <th>3</th>\n",
       "      <td>0.01265823</td>\n",
       "      <td>0.01472802</td>\n",
       "      <td>0.42518802</td>\n",
       "      <td>0.22655264</td>\n",
       "    </tr>\n",
       "    <tr>\n",
       "      <th>4</th>\n",
       "      <td>0.00628931</td>\n",
       "      <td>0.00755753</td>\n",
       "      <td>0.95389378</td>\n",
       "      <td>0.78341432</td>\n",
       "    </tr>\n",
       "    <tr>\n",
       "      <th>5</th>\n",
       "      <td>0.00313480</td>\n",
       "      <td>0.00243071</td>\n",
       "      <td>1.62916004</td>\n",
       "      <td>0.84153759</td>\n",
       "    </tr>\n",
       "    <tr>\n",
       "      <th>6</th>\n",
       "      <td>0.00156495</td>\n",
       "      <td>0.00180199</td>\n",
       "      <td>0.43081231</td>\n",
       "      <td>0.30231526</td>\n",
       "    </tr>\n",
       "  </tbody>\n",
       "</table>\n",
       "</div>"
      ],
      "text/plain": [
       "           h   L2 Error    L2 Rate    H1 Rate\n",
       "0 0.11111111 0.11762084 0.00000000 0.00000000\n",
       "1 0.05263158 0.05948449 0.91238952 0.50489980\n",
       "2 0.02564103 0.01988342 1.52384196 0.51425328\n",
       "3 0.01265823 0.01472802 0.42518802 0.22655264\n",
       "4 0.00628931 0.00755753 0.95389378 0.78341432\n",
       "5 0.00313480 0.00243071 1.62916004 0.84153759\n",
       "6 0.00156495 0.00180199 0.43081231 0.30231526"
      ]
     },
     "execution_count": 18,
     "metadata": {},
     "output_type": "execute_result"
    }
   ],
   "source": [
    "Xk = np.linspace(0,1,20)\n",
    "alpha=1; b=1; c=1;\n",
    "p2 = BVP(f_ex2,fk_ex3, alpha, b, c, Xk)\n",
    "\n",
    "H, E, p,H1 = convergence(p2, u_ex2)\n",
    "\n",
    "RateL2=np.zeros(np.size(E))\n",
    "RateH1=np.zeros(np.size(E))\n",
    "\n",
    "RateL2[1:]=np.log10(E[1:]/E[:-1])/np.log10(H[1:]/H[:-1])\n",
    "RateH1[1:]=np.log10(H1[1:]/H1[:-1])/np.log10(H[1:]/H[:-1])\n",
    "\n",
    "\n",
    "pd.options.display.float_format = '{:.8f}'.format\n",
    "#pd.set_option('display.float_format', '{:.2E}'.format)\n",
    "df = pd.DataFrame(data={'h': H, 'L2 Error': E ,'L2 Rate':RateL2,'H1 Rate':RateH1}) \n",
    "df"
   ]
  },
  {
   "cell_type": "code",
   "execution_count": 19,
   "metadata": {
    "cell_id": "0a8221ea45064ffa9bed74cb126c0385",
    "deepnote_cell_type": "code",
    "deepnote_to_be_reexecuted": false,
    "execution_millis": 199,
    "execution_start": 1711615577613,
    "source_hash": "281962a2"
   },
   "outputs": [],
   "source": [
    "def f1(x,bvp):\n",
    "    return x**(-2/5)\n",
    "\n",
    "def f2(x,bvp):\n",
    "    return x**(-7/5)"
   ]
  },
  {
   "cell_type": "code",
   "execution_count": 20,
   "metadata": {
    "cell_id": "effea44e687b4128b0d536b1ffee1c05",
    "deepnote_cell_type": "code",
    "deepnote_to_be_reexecuted": false,
    "execution_millis": 679,
    "execution_start": 1711616076509,
    "source_hash": "5051aba0"
   },
   "outputs": [
    {
     "data": {
      "image/png": "[encoded data removed]",
      "text/plain": [
       "<Figure size 576x288 with 1 Axes>"
      ]
     },
     "metadata": {
      "needs_background": "light"
     },
     "output_type": "display_data"
    },
    {
     "data": {
      "image/png": "[encoded data removed]",
      "text/plain": [
       "<Figure size 576x288 with 1 Axes>"
      ]
     },
     "metadata": {
      "needs_background": "light"
     },
     "output_type": "display_data"
    }
   ],
   "source": [
    "Xk = np.linspace(1e-10,1,80)\n",
    "\n",
    "alpha=1; b=1; c=1;\n",
    "r = 0.6\n",
    "\n",
    "p4 = BVP(f1,fk_ex1, alpha, b, c, Xk)\n",
    "\n",
    "for i in range(len(Xk)):\n",
    "    Xk[i] = r**(len(Xk)-i)\n",
    "p4.set_Xk(Xk)\n",
    "U = FEMsolver(p4)\n",
    "\n",
    "plt.plot(p4.Xk, U)\n",
    "plt.legend(['Numerical f1'])\n",
    "plt.xlabel('x')\n",
    "plt.show()\n",
    "\n",
    "Xk = np.linspace(1e-10,1,80)\n",
    "\n",
    "alpha=1; b=1; c=1;\n",
    "p5 = BVP(f2,fk_ex1, alpha, b, c, Xk) #Siden denne ikke er L2, kanskje vi burde lage en egen fk_ex5 for denne?\n",
    "\n",
    "for i in range(len(Xk)):\n",
    "    Xk[i] = r**(len(Xk)-i)\n",
    "\n",
    "p5.set_Xk(Xk)\n",
    "U = FEMsolver(p5)\n",
    "\n",
    "plt.plot(p5.Xk, U)\n",
    "plt.legend(['Numerical f2'])\n",
    "plt.xlabel('x')\n",
    "plt.show()"
   ]
  },
  {
   "cell_type": "code",
   "execution_count": 32,
   "metadata": {
    "cell_id": "7c360a9d270c41f9bc746a58efa7cdad",
    "deepnote_cell_type": "code",
    "deepnote_to_be_reexecuted": false,
    "execution_millis": 20,
    "execution_start": 1711616594437,
    "source_hash": "90d7b8f0"
   },
   "outputs": [],
   "source": [
    "def graded_error(func,fk_func,deg_free):\n",
    "    alpha=1; b=-100; c=1;\n",
    "    int_nodes = 5000\n",
    "    X_samps = np.linspace(1e-10,1,int_nodes)\n",
    "    bvp = BVP(func,fk_func,alpha,b,c,X_samps)\n",
    "    u_exact = FEMsolver(bvp)\n",
    "    r = np.linspace(0.01,0.99,7)\n",
    "    r[-1] = 1\n",
    "    L2_error = np.zeros(len(r))\n",
    "    H1_error = np.zeros(len(r))\n",
    "\n",
    "    for k in range(len(r)):\n",
    "        Xk = np.zeros(deg_free)\n",
    "        for i in range(deg_free):\n",
    "            Xk[i] = r[k]**(deg_free-i)\n",
    "\n",
    "        if k == len(r)-1:\n",
    "            Xk = np.linspace(1e-10,1,10)\n",
    "\n",
    "        bvp = BVP(func,fk_ex1, alpha, b, c, Xk)\n",
    "     \n",
    "        U = FEMsolver(bvp)\n",
    "\n",
    "        interpolation = interp1d(bvp.Xk,U,kind='linear')\n",
    "        X_samps = np.linspace(min(bvp.Xk),max(bvp.Xk),int_nodes)\n",
    "        error_L2 = (interpolation(X_samps)-u_exact)**2\n",
    "        \n",
    "        grad_exact = np.gradient(u_exact,X_samps)\n",
    "        \n",
    "        grad_num = np.gradient(interpolation(X_samps),X_samps)\n",
    "        grad_error = (grad_num-grad_exact)**2\n",
    "\n",
    "        integral = (simps(error_L2,X_samps))**0.5\n",
    "        integral_grad = (simps(grad_error,X_samps))**0.5\n",
    "        \n",
    "        L2_error[k] = integral\n",
    "        H1_error[k] = (integral**2 + integral_grad**2)**0.5\n",
    "    return r,L2_error,H1_error"
   ]
  },
  {
   "cell_type": "code",
   "execution_count": 35,
   "metadata": {
    "cell_id": "35a2d01483644c8ab4531ecc98926166",
    "deepnote_cell_type": "code",
    "deepnote_to_be_reexecuted": false,
    "execution_millis": 8144,
    "execution_start": 1711616595843,
    "source_hash": "1748ac98"
   },
   "outputs": [
    {
     "data": {
      "text/html": [
       "<div>\n",
       "<style scoped>\n",
       "    .dataframe tbody tr th:only-of-type {\n",
       "        vertical-align: middle;\n",
       "    }\n",
       "\n",
       "    .dataframe tbody tr th {\n",
       "        vertical-align: top;\n",
       "    }\n",
       "\n",
       "    .dataframe thead th {\n",
       "        text-align: right;\n",
       "    }\n",
       "</style>\n",
       "<table border=\"1\" class=\"dataframe\">\n",
       "  <thead>\n",
       "    <tr style=\"text-align: right;\">\n",
       "      <th></th>\n",
       "      <th>r</th>\n",
       "      <th>L2 Error</th>\n",
       "      <th>H1 error</th>\n",
       "    </tr>\n",
       "  </thead>\n",
       "  <tbody>\n",
       "    <tr>\n",
       "      <th>0</th>\n",
       "      <td>0.01000000</td>\n",
       "      <td>0.00073411</td>\n",
       "      <td>1.11399577</td>\n",
       "    </tr>\n",
       "    <tr>\n",
       "      <th>1</th>\n",
       "      <td>0.17333333</td>\n",
       "      <td>0.00189609</td>\n",
       "      <td>0.24249962</td>\n",
       "    </tr>\n",
       "    <tr>\n",
       "      <th>2</th>\n",
       "      <td>0.33666667</td>\n",
       "      <td>0.00215939</td>\n",
       "      <td>0.14821881</td>\n",
       "    </tr>\n",
       "    <tr>\n",
       "      <th>3</th>\n",
       "      <td>0.50000000</td>\n",
       "      <td>0.00181168</td>\n",
       "      <td>0.09522465</td>\n",
       "    </tr>\n",
       "    <tr>\n",
       "      <th>4</th>\n",
       "      <td>0.66333333</td>\n",
       "      <td>0.00153149</td>\n",
       "      <td>0.07422199</td>\n",
       "    </tr>\n",
       "    <tr>\n",
       "      <th>5</th>\n",
       "      <td>0.82666667</td>\n",
       "      <td>0.00211028</td>\n",
       "      <td>0.10998763</td>\n",
       "    </tr>\n",
       "    <tr>\n",
       "      <th>6</th>\n",
       "      <td>Uniform</td>\n",
       "      <td>0.00327494</td>\n",
       "      <td>0.13188694</td>\n",
       "    </tr>\n",
       "  </tbody>\n",
       "</table>\n",
       "</div>"
      ],
      "text/plain": [
       "           r   L2 Error   H1 error\n",
       "0 0.01000000 0.00073411 1.11399577\n",
       "1 0.17333333 0.00189609 0.24249962\n",
       "2 0.33666667 0.00215939 0.14821881\n",
       "3 0.50000000 0.00181168 0.09522465\n",
       "4 0.66333333 0.00153149 0.07422199\n",
       "5 0.82666667 0.00211028 0.10998763\n",
       "6    Uniform 0.00327494 0.13188694"
      ]
     },
     "execution_count": 35,
     "metadata": {},
     "output_type": "execute_result"
    }
   ],
   "source": [
    "r,L2_error,H1_error = graded_error(f1,fk_ex1,10)\n",
    "# plt.plot(r,L2_error)\n",
    "# plt.show()\n",
    "# plt.plot(r,H1_error)\n",
    "\n",
    "r_list = r.tolist()\n",
    "r_list[-1] = \"Uniform\"\n",
    "pd.options.display.float_format = '{:.8f}'.format\n",
    "#pd.set_option('display.float_format', '{:.2E}'.format)\n",
    "df = pd.DataFrame(data={'r': r_list, 'L2 Error': L2_error ,'H1 error':H1_error}) \n",
    "df"
   ]
  },
  {
   "cell_type": "code",
   "execution_count": 36,
   "metadata": {
    "cell_id": "0df57414173b463aad8b2e6f6141ec0a",
    "deepnote_cell_type": "code",
    "deepnote_to_be_reexecuted": false,
    "execution_millis": 6669,
    "execution_start": 1711616616001,
    "source_hash": "a7a02500"
   },
   "outputs": [
    {
     "data": {
      "text/html": [
       "<div>\n",
       "<style scoped>\n",
       "    .dataframe tbody tr th:only-of-type {\n",
       "        vertical-align: middle;\n",
       "    }\n",
       "\n",
       "    .dataframe tbody tr th {\n",
       "        vertical-align: top;\n",
       "    }\n",
       "\n",
       "    .dataframe thead th {\n",
       "        text-align: right;\n",
       "    }\n",
       "</style>\n",
       "<table border=\"1\" class=\"dataframe\">\n",
       "  <thead>\n",
       "    <tr style=\"text-align: right;\">\n",
       "      <th></th>\n",
       "      <th>r</th>\n",
       "      <th>L2 Error</th>\n",
       "      <th>H1 error</th>\n",
       "    </tr>\n",
       "  </thead>\n",
       "  <tbody>\n",
       "    <tr>\n",
       "      <th>0</th>\n",
       "      <td>0.01000000</td>\n",
       "      <td>0.00228382</td>\n",
       "      <td>22.19658089</td>\n",
       "    </tr>\n",
       "    <tr>\n",
       "      <th>1</th>\n",
       "      <td>0.17333333</td>\n",
       "      <td>0.02489090</td>\n",
       "      <td>3.86464730</td>\n",
       "    </tr>\n",
       "    <tr>\n",
       "      <th>2</th>\n",
       "      <td>0.33666667</td>\n",
       "      <td>0.00862621</td>\n",
       "      <td>2.35608345</td>\n",
       "    </tr>\n",
       "    <tr>\n",
       "      <th>3</th>\n",
       "      <td>0.50000000</td>\n",
       "      <td>0.00738688</td>\n",
       "      <td>2.49699836</td>\n",
       "    </tr>\n",
       "    <tr>\n",
       "      <th>4</th>\n",
       "      <td>0.66333333</td>\n",
       "      <td>0.01017457</td>\n",
       "      <td>2.67690916</td>\n",
       "    </tr>\n",
       "    <tr>\n",
       "      <th>5</th>\n",
       "      <td>0.82666667</td>\n",
       "      <td>0.01759163</td>\n",
       "      <td>2.80951334</td>\n",
       "    </tr>\n",
       "    <tr>\n",
       "      <th>6</th>\n",
       "      <td>Uniform</td>\n",
       "      <td>0.02956859</td>\n",
       "      <td>2.41699588</td>\n",
       "    </tr>\n",
       "  </tbody>\n",
       "</table>\n",
       "</div>"
      ],
      "text/plain": [
       "           r   L2 Error    H1 error\n",
       "0 0.01000000 0.00228382 22.19658089\n",
       "1 0.17333333 0.02489090  3.86464730\n",
       "2 0.33666667 0.00862621  2.35608345\n",
       "3 0.50000000 0.00738688  2.49699836\n",
       "4 0.66333333 0.01017457  2.67690916\n",
       "5 0.82666667 0.01759163  2.80951334\n",
       "6    Uniform 0.02956859  2.41699588"
      ]
     },
     "execution_count": 36,
     "metadata": {},
     "output_type": "execute_result"
    }
   ],
   "source": [
    "r,L2_error,H1_error = graded_error(f2,fk_ex1,10)\n",
    "r_list = r.tolist()\n",
    "r_list[-1] = \"Uniform\"\n",
    "pd.options.display.float_format = '{:.8f}'.format\n",
    "#pd.set_option('display.float_format', '{:.2E}'.format)\n",
    "df = pd.DataFrame(data={'r': r_list, 'L2 Error': L2_error ,'H1 error':H1_error}) \n",
    "df"
   ]
  },
  {
   "cell_type": "code",
   "execution_count": 24,
   "metadata": {
    "cell_id": "7daa4d31e3b54356824c9b950e980407",
    "deepnote_cell_type": "code",
    "deepnote_to_be_reexecuted": false,
    "execution_millis": 232,
    "execution_start": 1711615591961,
    "source_hash": "a6400dc4"
   },
   "outputs": [
    {
     "name": "stdout",
     "output_type": "stream",
     "text": [
      "22.19658089420155 2.3132255501524313\n"
     ]
    }
   ],
   "source": [
    "print(max(H1_error),min(H1_error))"
   ]
  },
  {
   "cell_type": "code",
   "execution_count": null,
   "metadata": {
    "cell_id": "7c47340beb614b9fb8d9f027fcf44ce0",
    "deepnote_cell_type": "code",
    "deepnote_to_be_reexecuted": false,
    "execution_millis": 226,
    "execution_start": 1711615591967,
    "source_hash": "b623e53d"
   },
   "outputs": [],
   "source": []
  },
  {
   "cell_type": "markdown",
   "metadata": {
    "created_in_deepnote_cell": true,
    "deepnote_cell_type": "markdown"
   },
   "source": [
    "<a style='text-decoration:none;line-height:16px;display:flex;color:#5B5B62;padding:10px;justify-content:end;' href='https://deepnote.com?utm_source=created-in-deepnote-cell&projectId=ee5611cf-05e8-4382-8cf5-16fd0627b5d6' target=\"_blank\">\n",
    "<img alt='Created in deepnote.com' style='display:inline;max-height:16px;margin:0px;margin-right:7.5px;' src='data:image/svg+xml;base64,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' > </img>\n",
    "Created in <span style='font-weight:600;margin-left:4px;'>Deepnote</span></a>"
   ]
  }
 ],
 "metadata": {
  "deepnote_execution_queue": [],
  "deepnote_notebook_id": "09cebd2170b54edf8a90c6d0cc971e2c",
  "deepnote_persisted_session": {
   "createdAt": "2024-03-28T08:45:22.666Z"
  },
  "kernelspec": {
   "display_name": "Python 3",
   "language": "python",
   "name": "python3"
  },
  "language_info": {
   "codemirror_mode": {
    "name": "ipython",
    "version": 3
   },
   "file_extension": ".py",
   "mimetype": "text/x-python",
   "name": "python",
   "nbconvert_exporter": "python",
   "pygments_lexer": "ipython3",
   "version": "3.8.8"
  }
 },
 "nbformat": 4,
 "nbformat_minor": 1
}
